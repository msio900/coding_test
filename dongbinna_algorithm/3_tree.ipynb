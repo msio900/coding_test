{
 "cells": [
  {
   "cell_type": "markdown",
   "metadata": {},
   "source": [
    "# 3_Tree"
   ]
  },
  {
   "cell_type": "code",
   "execution_count": 3,
   "metadata": {},
   "outputs": [
    {
     "name": "stdout",
     "output_type": "stream",
     "text": [
      "A B D E C F G \n",
      "D B E A F C G \n",
      "D E B F G C A "
     ]
    }
   ],
   "source": [
    "class Node:\n",
    "    def __init__(self, data, left_node, right_node):\n",
    "        self.data = data\n",
    "        self.left_node = left_node\n",
    "        self.right_node = right_node\n",
    "\n",
    "# 전위 순회 \n",
    "def pre_order(node):\n",
    "    print(node.data, end=' ')\n",
    "    if node.left_node != None:\n",
    "        pre_order(tree[node.left_node])\n",
    "    if node.right_node != None:\n",
    "        pre_order(tree[node.right_node])\n",
    "\n",
    "# 중위 순회\n",
    "def in_order(node):\n",
    "    if node.left_node != None:\n",
    "        in_order(tree[node.left_node])\n",
    "    print(node.data, end=' ')\n",
    "    if node.right_node != None:\n",
    "        in_order(tree[node.right_node])\n",
    "\n",
    "# 후위 순회\n",
    "def post_order(node):\n",
    "    if node.left_node != None:\n",
    "        post_order(tree[node.left_node])\n",
    "    if node.right_node != None:\n",
    "        post_order(tree[node.right_node])\n",
    "    print(node.data, end=' ')\n",
    "\n",
    "n = int(input())\n",
    "tree = {}\n",
    "\n",
    "for i in range(n):\n",
    "    data, left_node, right_node = input().split()\n",
    "    if left_node == \"None\":\n",
    "        left_node = None\n",
    "    if right_node == \"None\":\n",
    "        right_node = None\n",
    "    tree[data] = Node(data, left_node, right_node)\n",
    "\n",
    "pre_order(tree['A'])\n",
    "print()\n",
    "in_order(tree['A'])\n",
    "print()\n",
    "post_order(tree['A'])\n"
   ]
  }
 ],
 "metadata": {
  "interpreter": {
   "hash": "4c65b98e956c6ae24f8ae0bc56d1e465ff92310dbdec0a4bd6b48ffdf1441c98"
  },
  "kernelspec": {
   "display_name": "Python 3.6.4 64-bit",
   "language": "python",
   "name": "python3"
  },
  "language_info": {
   "codemirror_mode": {
    "name": "ipython",
    "version": 3
   },
   "file_extension": ".py",
   "mimetype": "text/x-python",
   "name": "python",
   "nbconvert_exporter": "python",
   "pygments_lexer": "ipython3",
   "version": "3.6.4"
  },
  "orig_nbformat": 4
 },
 "nbformat": 4,
 "nbformat_minor": 2
}
