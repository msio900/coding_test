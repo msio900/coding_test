{
 "cells": [
  {
   "cell_type": "code",
   "execution_count": 29,
   "metadata": {},
   "outputs": [
    {
     "ename": "ValueError",
     "evalue": "invalid literal for int() with base 10: ''",
     "output_type": "error",
     "traceback": [
      "\u001b[1;31m---------------------------------------------------------------------------\u001b[0m",
      "\u001b[1;31mValueError\u001b[0m                                Traceback (most recent call last)",
      "\u001b[1;32m<ipython-input-29-23b488c3dc89>\u001b[0m in \u001b[0;36m<module>\u001b[1;34m\u001b[0m\n\u001b[0;32m      1\u001b[0m \u001b[1;32mimport\u001b[0m \u001b[0msys\u001b[0m\u001b[1;33m\u001b[0m\u001b[0m\n\u001b[0;32m      2\u001b[0m \u001b[1;33m\u001b[0m\u001b[0m\n\u001b[1;32m----> 3\u001b[1;33m \u001b[0ms\u001b[0m \u001b[1;33m=\u001b[0m \u001b[0mint\u001b[0m\u001b[1;33m(\u001b[0m\u001b[0msys\u001b[0m\u001b[1;33m.\u001b[0m\u001b[0mstdin\u001b[0m\u001b[1;33m.\u001b[0m\u001b[0mreadline\u001b[0m\u001b[1;33m(\u001b[0m\u001b[1;33m)\u001b[0m\u001b[1;33m)\u001b[0m\u001b[1;33m\u001b[0m\u001b[0m\n\u001b[0m\u001b[0;32m      4\u001b[0m \u001b[1;33m\u001b[0m\u001b[0m\n\u001b[0;32m      5\u001b[0m \u001b[1;32mfor\u001b[0m \u001b[0m_\u001b[0m \u001b[1;32min\u001b[0m \u001b[0mrange\u001b[0m\u001b[1;33m(\u001b[0m\u001b[0ms\u001b[0m\u001b[1;33m)\u001b[0m\u001b[1;33m:\u001b[0m\u001b[1;33m\u001b[0m\u001b[0m\n",
      "\u001b[1;31mValueError\u001b[0m: invalid literal for int() with base 10: ''"
     ]
    }
   ],
   "source": [
    "import sys\n",
    "\n",
    "s = int(sys.stdin.readline())\n",
    "\n",
    "for _ in range(s):\n",
    "    answer = []\n",
    "    sentence = sys.stdin.readline()\n",
    "    for words in sentence:\n",
    "        if len(words) == 1:\n",
    "            answer.append(words)\n",
    "        else:\n",
    "            re_words = []\n",
    "            for i in range(0, len(words)):\n",
    "                re_words.append(words[- (i + 1)])\n",
    "            re_words = \"\".join(re_words)\n",
    "            answer.append(re_words)\n",
    "\n",
    "    print(\"\".join(answer))"
   ]
  },
  {
   "cell_type": "code",
   "execution_count": 4,
   "metadata": {},
   "outputs": [
    {
     "name": "stdout",
     "output_type": "stream",
     "text": [
      "0\n",
      "3 10\n",
      "119 119\n",
      "False\n"
     ]
    }
   ],
   "source": [
    "def solution(phone_book):\n",
    "    answer = True\n",
    "    phone_book.sort()\n",
    "    for i in range(len(phone_book)-1):\n",
    "        print('i :',i)\n",
    "        if len(phone_book[i]) < len(phone_book[i+1]):\n",
    "            print(len(phone_book[i]), len(phone_book[i+1]))\n",
    "            if phone_book[i + 1][:len(phone_book[i])] == phone_book[i]:\n",
    "                print(phone_book[i + 1][:len(phone_book[i])], phone_book[i])\n",
    "                answer = False\n",
    "                break\n",
    "    return answer\n",
    "\n",
    "\n",
    "if __name__ == '__main__':\n",
    "    phone_book = [\"119\", \"97674223\", \"1195524421\"]\n",
    "    print(solution(phone_book))"
   ]
  }
 ],
 "metadata": {
  "interpreter": {
   "hash": "4c65b98e956c6ae24f8ae0bc56d1e465ff92310dbdec0a4bd6b48ffdf1441c98"
  },
  "kernelspec": {
   "display_name": "Python 3.6.4 64-bit",
   "language": "python",
   "name": "python3"
  },
  "language_info": {
   "codemirror_mode": {
    "name": "ipython",
    "version": 3
   },
   "file_extension": ".py",
   "mimetype": "text/x-python",
   "name": "python",
   "nbconvert_exporter": "python",
   "pygments_lexer": "ipython3",
   "version": "3.6.4"
  },
  "orig_nbformat": 4
 },
 "nbformat": 4,
 "nbformat_minor": 2
}
